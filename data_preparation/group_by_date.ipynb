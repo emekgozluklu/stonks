{
 "cells": [
  {
   "cell_type": "code",
   "execution_count": 16,
   "metadata": {},
   "outputs": [],
   "source": [
    "import pandas as pd\n",
    "import numpy as np\n",
    "import os\n",
    "import joblib"
   ]
  },
  {
   "cell_type": "code",
   "execution_count": 17,
   "metadata": {},
   "outputs": [],
   "source": [
    "data_path = \"../data/imputed/1min\"\n",
    "write_data_path= \"../data/imputed/grouped_by_date\"\n",
    "\n",
    "files = os.listdir(data_path)\n",
    "\n",
    "try:\n",
    "    os.mkdir(write_data_path)\n",
    "except FileExistsError:\n",
    "    pass"
   ]
  },
  {
   "cell_type": "code",
   "execution_count": 20,
   "metadata": {},
   "outputs": [
    {
     "name": "stdout",
     "output_type": "stream",
     "text": [
      "Processing:  VAKBN_full\n",
      "Processing:  TSKB_full\n",
      "Processing:  KRDMD_full\n",
      "Processing:  PETKM_full\n",
      "Processing:  SISE_full\n",
      "Processing:  GARAN_full\n",
      "Processing:  TTKOM_full\n",
      "Processing:  \n",
      "Processing:  KOZAL_full\n",
      "Processing:  KOZAA_full\n",
      "Processing:  EKGYO_full\n",
      "Processing:  TUPRS_full\n",
      "Processing:  OYAKC_full\n",
      "Processing:  BIMAS_full\n",
      "Processing:  KCHOL_full\n",
      "Processing:  MGROS_full\n",
      "Processing:  THYAO_full\n",
      "Processing:  HALKB_full\n",
      "Processing:  ARCLK_full\n",
      "Processing:  SAHOL_full\n",
      "Processing:  GUBRF_full\n",
      "Processing:  ASELS_full\n",
      "Processing:  TCELL_full\n",
      "Processing:  PGSUS_full\n",
      "Processing:  DOHOL_full\n",
      "Processing:  EREGL_full\n",
      "Processing:  TAVHL_full\n",
      "Processing:  AKBNK_full\n",
      "Processing:  ISCTR_full\n",
      "Processing:  TKFEN_full\n",
      "Processing:  YKBNK_full\n"
     ]
    }
   ],
   "source": [
    "for file in files: \n",
    "    \n",
    "    label = file.split(\".\")[0]\n",
    "    print(\"Processing: \", label)\n",
    "    \n",
    "    if not file.endswith(\".csv\"):\n",
    "        continue\n",
    "    \n",
    "    df = pd.read_csv(f\"{data_path}/{file}\")\n",
    "    \n",
    "    try:\n",
    "        df[\"date\"] = df[\"date_time\"].apply(lambda x: x[:10])\n",
    "    except KeyError:\n",
    "        print(\"Error in file \", file)\n",
    "    \n",
    "    grouped = {}\n",
    "    for i in df.groupby(\"date\"):\n",
    "        grouped[i[0]] = i[1]\n",
    "\n",
    "    joblib.dump(grouped, f\"{write_data_path}/{label}.joblib\")"
   ]
  },
  {
   "cell_type": "code",
   "execution_count": null,
   "metadata": {},
   "outputs": [],
   "source": []
  }
 ],
 "metadata": {
  "kernelspec": {
   "display_name": "Python 3",
   "language": "python",
   "name": "python3"
  },
  "language_info": {
   "codemirror_mode": {
    "name": "ipython",
    "version": 3
   },
   "file_extension": ".py",
   "mimetype": "text/x-python",
   "name": "python",
   "nbconvert_exporter": "python",
   "pygments_lexer": "ipython3",
   "version": "3.9.4"
  }
 },
 "nbformat": 4,
 "nbformat_minor": 5
}
